{
 "cells": [
  {
   "cell_type": "code",
   "execution_count": null,
   "id": "8ca200d9",
   "metadata": {},
   "outputs": [],
   "source": [
    "\"\"\"Description about datasets:\n",
    "The dataset which i use here is dowloaded from kaggle.In this dataset we have six column and all of them are descripted below:\n",
    "1. Rank-> All the channel have assigned some rank according to their subsriber,likes and so on.\n",
    "2. Grade-> All the channel have assignes some grade according to their positive comments and so on.\n",
    "3. Chhanel name-> All the channel must have some unique name.\n",
    "4. Video uploads-> How many videos are uploads.\n",
    "5. Subsribers-> How many subscribers they have.\n",
    "6. Video views-> How many views of their entire videos that they uploaded on their channel.\n",
    "\n",
    "          Our wordking model:\n",
    "        Data<-->Pre-processing<-->Building Model\"\"\""
   ]
  },
  {
   "cell_type": "code",
   "execution_count": 172,
   "id": "8b4a1d92",
   "metadata": {},
   "outputs": [],
   "source": [
    "#import some useful python packages which is used here\n",
    "\n",
    "import numpy as np\n",
    "import pandas as pd\n",
    "import matplotlib.pyplot as plt\n",
    "from sklearn.model_selection import train_test_split\n",
    "from sklearn.tree import DecisionTreeClassifier\n",
    "from sklearn.ensemble import RandomForestClassifier\n",
    "from sklearn.metrics import accuracy_score"
   ]
  },
  {
   "cell_type": "code",
   "execution_count": 173,
   "id": "f07b8ebb",
   "metadata": {},
   "outputs": [
    {
     "data": {
      "text/html": [
       "<div>\n",
       "<style scoped>\n",
       "    .dataframe tbody tr th:only-of-type {\n",
       "        vertical-align: middle;\n",
       "    }\n",
       "\n",
       "    .dataframe tbody tr th {\n",
       "        vertical-align: top;\n",
       "    }\n",
       "\n",
       "    .dataframe thead th {\n",
       "        text-align: right;\n",
       "    }\n",
       "</style>\n",
       "<table border=\"1\" class=\"dataframe\">\n",
       "  <thead>\n",
       "    <tr style=\"text-align: right;\">\n",
       "      <th></th>\n",
       "      <th>Rank</th>\n",
       "      <th>Grade</th>\n",
       "      <th>Channel name</th>\n",
       "      <th>Video Uploads</th>\n",
       "      <th>Subscribers</th>\n",
       "      <th>Video views</th>\n",
       "    </tr>\n",
       "  </thead>\n",
       "  <tbody>\n",
       "    <tr>\n",
       "      <th>0</th>\n",
       "      <td>1st</td>\n",
       "      <td>A++</td>\n",
       "      <td>Zee TV</td>\n",
       "      <td>82757.0</td>\n",
       "      <td>18752951</td>\n",
       "      <td>20869786591</td>\n",
       "    </tr>\n",
       "    <tr>\n",
       "      <th>1</th>\n",
       "      <td>2nd</td>\n",
       "      <td>A++</td>\n",
       "      <td>T-Series</td>\n",
       "      <td>12661.0</td>\n",
       "      <td>61196302</td>\n",
       "      <td>47548839843</td>\n",
       "    </tr>\n",
       "    <tr>\n",
       "      <th>2</th>\n",
       "      <td>3rd</td>\n",
       "      <td>A++</td>\n",
       "      <td>Cocomelon - Nursery Rhymes</td>\n",
       "      <td>373.0</td>\n",
       "      <td>19238251</td>\n",
       "      <td>9793305082</td>\n",
       "    </tr>\n",
       "    <tr>\n",
       "      <th>3</th>\n",
       "      <td>4th</td>\n",
       "      <td>A++</td>\n",
       "      <td>SET India</td>\n",
       "      <td>27323.0</td>\n",
       "      <td>31180559</td>\n",
       "      <td>22675948293</td>\n",
       "    </tr>\n",
       "    <tr>\n",
       "      <th>4</th>\n",
       "      <td>5th</td>\n",
       "      <td>A++</td>\n",
       "      <td>WWE</td>\n",
       "      <td>36756.0</td>\n",
       "      <td>32852346</td>\n",
       "      <td>26273668433</td>\n",
       "    </tr>\n",
       "  </tbody>\n",
       "</table>\n",
       "</div>"
      ],
      "text/plain": [
       "  Rank Grade                Channel name  Video Uploads Subscribers  \\\n",
       "0  1st  A++                       Zee TV        82757.0    18752951   \n",
       "1  2nd  A++                     T-Series        12661.0    61196302   \n",
       "2  3rd  A++   Cocomelon - Nursery Rhymes          373.0    19238251   \n",
       "3  4th  A++                    SET India        27323.0    31180559   \n",
       "4  5th  A++                          WWE        36756.0    32852346   \n",
       "\n",
       "   Video views  \n",
       "0  20869786591  \n",
       "1  47548839843  \n",
       "2   9793305082  \n",
       "3  22675948293  \n",
       "4  26273668433  "
      ]
     },
     "execution_count": 173,
     "metadata": {},
     "output_type": "execute_result"
    }
   ],
   "source": [
    "#Load the dataset:\n",
    "\n",
    "df=pd.read_csv(\"youtubedata.csv\")\n",
    "\n",
    "#To view our dataset:\n",
    "\n",
    "df.head()"
   ]
  },
  {
   "cell_type": "code",
   "execution_count": 174,
   "id": "7dee65e5",
   "metadata": {},
   "outputs": [
    {
     "data": {
      "text/plain": [
       "Rank             0\n",
       "Grade            0\n",
       "Channel name     0\n",
       "Video Uploads    6\n",
       "Subscribers      0\n",
       "Video views      0\n",
       "dtype: int64"
      ]
     },
     "execution_count": 174,
     "metadata": {},
     "output_type": "execute_result"
    }
   ],
   "source": [
    "#As all the columns are useful here building model so we don't need to remove anyone\n",
    "#Now we have to check whether null value exist or not\n",
    "\n",
    "df.isnull().sum()"
   ]
  },
  {
   "cell_type": "code",
   "execution_count": 175,
   "id": "3a38facb",
   "metadata": {},
   "outputs": [],
   "source": [
    "#Here we see only in column video uploads their is 6 null value exist,so first of all we have to assign 0 in it \n",
    "# to avoid null value.\n",
    "\n",
    "df['Video Uploads']=df['Video Uploads'].fillna(0)"
   ]
  },
  {
   "cell_type": "code",
   "execution_count": 176,
   "id": "71a8f0c9",
   "metadata": {},
   "outputs": [
    {
     "data": {
      "text/plain": [
       "Rank             0\n",
       "Grade            0\n",
       "Channel name     0\n",
       "Video Uploads    0\n",
       "Subscribers      0\n",
       "Video views      0\n",
       "dtype: int64"
      ]
     },
     "execution_count": 176,
     "metadata": {},
     "output_type": "execute_result"
    }
   ],
   "source": [
    "df.isnull().sum()"
   ]
  },
  {
   "cell_type": "code",
   "execution_count": 177,
   "id": "b7c4284b",
   "metadata": {},
   "outputs": [
    {
     "data": {
      "text/plain": [
       "(5000, 6)"
      ]
     },
     "execution_count": 177,
     "metadata": {},
     "output_type": "execute_result"
    }
   ],
   "source": [
    "#Now all the null values are removed.\n",
    "#Let's see the number of column and number of rows:\n",
    "\n",
    "df.shape"
   ]
  },
  {
   "cell_type": "code",
   "execution_count": 178,
   "id": "e28f3b25",
   "metadata": {},
   "outputs": [
    {
     "data": {
      "text/plain": [
       "Rank              object\n",
       "Grade             object\n",
       "Channel name      object\n",
       "Video Uploads    float64\n",
       "Subscribers       object\n",
       "Video views        int64\n",
       "dtype: object"
      ]
     },
     "execution_count": 178,
     "metadata": {},
     "output_type": "execute_result"
    }
   ],
   "source": [
    "#Now we have to see the data type of all columns that's why further it should be helpful for analysis of datasets:\n",
    "\n",
    "df.dtypes"
   ]
  },
  {
   "cell_type": "code",
   "execution_count": 179,
   "id": "0c4da133",
   "metadata": {},
   "outputs": [
    {
     "data": {
      "text/html": [
       "<div>\n",
       "<style scoped>\n",
       "    .dataframe tbody tr th:only-of-type {\n",
       "        vertical-align: middle;\n",
       "    }\n",
       "\n",
       "    .dataframe tbody tr th {\n",
       "        vertical-align: top;\n",
       "    }\n",
       "\n",
       "    .dataframe thead th {\n",
       "        text-align: right;\n",
       "    }\n",
       "</style>\n",
       "<table border=\"1\" class=\"dataframe\">\n",
       "  <thead>\n",
       "    <tr style=\"text-align: right;\">\n",
       "      <th></th>\n",
       "      <th>Video Uploads</th>\n",
       "      <th>Video views</th>\n",
       "    </tr>\n",
       "  </thead>\n",
       "  <tbody>\n",
       "    <tr>\n",
       "      <th>count</th>\n",
       "      <td>5000.000000</td>\n",
       "      <td>5.000000e+03</td>\n",
       "    </tr>\n",
       "    <tr>\n",
       "      <th>mean</th>\n",
       "      <td>3854.832200</td>\n",
       "      <td>1.071449e+09</td>\n",
       "    </tr>\n",
       "    <tr>\n",
       "      <th>std</th>\n",
       "      <td>17076.132712</td>\n",
       "      <td>2.003844e+09</td>\n",
       "    </tr>\n",
       "    <tr>\n",
       "      <th>min</th>\n",
       "      <td>0.000000</td>\n",
       "      <td>7.500000e+01</td>\n",
       "    </tr>\n",
       "    <tr>\n",
       "      <th>25%</th>\n",
       "      <td>140.000000</td>\n",
       "      <td>1.862329e+08</td>\n",
       "    </tr>\n",
       "    <tr>\n",
       "      <th>50%</th>\n",
       "      <td>441.000000</td>\n",
       "      <td>4.820548e+08</td>\n",
       "    </tr>\n",
       "    <tr>\n",
       "      <th>75%</th>\n",
       "      <td>1500.250000</td>\n",
       "      <td>1.124368e+09</td>\n",
       "    </tr>\n",
       "    <tr>\n",
       "      <th>max</th>\n",
       "      <td>422326.000000</td>\n",
       "      <td>4.754884e+10</td>\n",
       "    </tr>\n",
       "  </tbody>\n",
       "</table>\n",
       "</div>"
      ],
      "text/plain": [
       "       Video Uploads   Video views\n",
       "count    5000.000000  5.000000e+03\n",
       "mean     3854.832200  1.071449e+09\n",
       "std     17076.132712  2.003844e+09\n",
       "min         0.000000  7.500000e+01\n",
       "25%       140.000000  1.862329e+08\n",
       "50%       441.000000  4.820548e+08\n",
       "75%      1500.250000  1.124368e+09\n",
       "max    422326.000000  4.754884e+10"
      ]
     },
     "execution_count": 179,
     "metadata": {},
     "output_type": "execute_result"
    }
   ],
   "source": [
    "#Let's see the statical summary of numerical data,here we see only two columns\n",
    "#because describe function only applied on numerical data not on categeorical data\n",
    "df.describe()"
   ]
  },
  {
   "cell_type": "code",
   "execution_count": 180,
   "id": "93438faf",
   "metadata": {},
   "outputs": [
    {
     "data": {
      "image/png": "[encoded data removed]",
      "text/plain": [
       "<Figure size 432x288 with 1 Axes>"
      ]
     },
     "metadata": {
      "needs_background": "light"
     },
     "output_type": "display_data"
    }
   ],
   "source": [
    "#Demonstrate the scatter plot betwee channel name and videos views\n",
    "#As there are lot of channel name so using loc function we describe here only five chnnel name\n",
    "\n",
    "df.loc[0:4].plot(kind='scatter',marker=\"*\",x='Channel name',y='Video views',color='green',s=200)\n",
    "plt.show()"
   ]
  },
  {
   "cell_type": "code",
   "execution_count": 181,
   "id": "70c57968",
   "metadata": {},
   "outputs": [
    {
     "data": {
      "image/png": "[encoded data removed]",
      "text/plain": [
       "<Figure size 432x288 with 1 Axes>"
      ]
     },
     "metadata": {
      "needs_background": "light"
     },
     "output_type": "display_data"
    }
   ],
   "source": [
    "##Demonstrate the line plot betwee channel name and Video Uploads\n",
    "#As there are lot of channel name so using loc function we describe here only five chnnel name\n",
    "\n",
    "df.loc[0:4].plot(kind='line',x='Channel name',y='Video Uploads',color='red',linewidth=3)\n",
    "plt.show()"
   ]
  },
  {
   "cell_type": "code",
   "execution_count": 182,
   "id": "6e269d52",
   "metadata": {},
   "outputs": [],
   "source": [
    "#As we are not able to demonstrate the bar graph between channel name and subscribers due to because of the \n",
    "# datatype of subscribers are in object format so first we need to change it to integer type.\n",
    "\n",
    "from sklearn.preprocessing import LabelEncoder\n",
    "lc=LabelEncoder()\n",
    "df['Subscribers']=lc.fit_transform(df['Subscribers'])"
   ]
  },
  {
   "cell_type": "code",
   "execution_count": 183,
   "id": "f039aaf8",
   "metadata": {},
   "outputs": [
    {
     "data": {
      "text/plain": [
       "dtype('int32')"
      ]
     },
     "execution_count": 183,
     "metadata": {},
     "output_type": "execute_result"
    }
   ],
   "source": [
    "#Now the data-type of subscribers is changed from object format to integer type format\n",
    "\n",
    "df.dtypes['Subscribers']"
   ]
  },
  {
   "cell_type": "code",
   "execution_count": 184,
   "id": "86ca8987",
   "metadata": {},
   "outputs": [
    {
     "data": {
      "image/png": "[encoded data removed]",
      "text/plain": [
       "<Figure size 432x288 with 1 Axes>"
      ]
     },
     "metadata": {
      "needs_background": "light"
     },
     "output_type": "display_data"
    }
   ],
   "source": [
    "##Demonstrate the bar plot betwee channel name and their subscribers\n",
    "#As there are lot of channel name so using loc function we describe here only five chnnel name\n",
    "df.loc[0:4].plot(kind='bar',x='Channel name',y='Subscribers',color='brown')\n",
    "plt.show()"
   ]
  },
  {
   "cell_type": "code",
   "execution_count": 185,
   "id": "4c1678d7",
   "metadata": {},
   "outputs": [],
   "source": [
    "#Slicing and splitting of Datasets using iloc function :\n",
    "\n",
    "y=df.iloc[:,1]\n",
    "x=df.iloc[:,2:]"
   ]
  },
  {
   "cell_type": "code",
   "execution_count": 186,
   "id": "b1986a81",
   "metadata": {},
   "outputs": [
    {
     "data": {
      "text/plain": [
       "0    A++ \n",
       "1    A++ \n",
       "2    A++ \n",
       "3    A++ \n",
       "4    A++ \n",
       "Name: Grade, dtype: object"
      ]
     },
     "execution_count": 186,
     "metadata": {},
     "output_type": "execute_result"
    }
   ],
   "source": [
    "#Now view the newly created Datasets after splitting the original datasets:\n",
    "\n",
    "y.head()"
   ]
  },
  {
   "cell_type": "code",
   "execution_count": 187,
   "id": "978abcc0",
   "metadata": {},
   "outputs": [
    {
     "data": {
      "text/html": [
       "<div>\n",
       "<style scoped>\n",
       "    .dataframe tbody tr th:only-of-type {\n",
       "        vertical-align: middle;\n",
       "    }\n",
       "\n",
       "    .dataframe tbody tr th {\n",
       "        vertical-align: top;\n",
       "    }\n",
       "\n",
       "    .dataframe thead th {\n",
       "        text-align: right;\n",
       "    }\n",
       "</style>\n",
       "<table border=\"1\" class=\"dataframe\">\n",
       "  <thead>\n",
       "    <tr style=\"text-align: right;\">\n",
       "      <th></th>\n",
       "      <th>Channel name</th>\n",
       "      <th>Video Uploads</th>\n",
       "      <th>Subscribers</th>\n",
       "      <th>Video views</th>\n",
       "    </tr>\n",
       "  </thead>\n",
       "  <tbody>\n",
       "    <tr>\n",
       "      <th>0</th>\n",
       "      <td>Zee TV</td>\n",
       "      <td>82757.0</td>\n",
       "      <td>1348</td>\n",
       "      <td>20869786591</td>\n",
       "    </tr>\n",
       "    <tr>\n",
       "      <th>1</th>\n",
       "      <td>T-Series</td>\n",
       "      <td>12661.0</td>\n",
       "      <td>3615</td>\n",
       "      <td>47548839843</td>\n",
       "    </tr>\n",
       "    <tr>\n",
       "      <th>2</th>\n",
       "      <td>Cocomelon - Nursery Rhymes</td>\n",
       "      <td>373.0</td>\n",
       "      <td>1407</td>\n",
       "      <td>9793305082</td>\n",
       "    </tr>\n",
       "    <tr>\n",
       "      <th>3</th>\n",
       "      <td>SET India</td>\n",
       "      <td>27323.0</td>\n",
       "      <td>2320</td>\n",
       "      <td>22675948293</td>\n",
       "    </tr>\n",
       "    <tr>\n",
       "      <th>4</th>\n",
       "      <td>WWE</td>\n",
       "      <td>36756.0</td>\n",
       "      <td>2427</td>\n",
       "      <td>26273668433</td>\n",
       "    </tr>\n",
       "  </tbody>\n",
       "</table>\n",
       "</div>"
      ],
      "text/plain": [
       "                 Channel name  Video Uploads  Subscribers  Video views\n",
       "0                      Zee TV        82757.0         1348  20869786591\n",
       "1                    T-Series        12661.0         3615  47548839843\n",
       "2  Cocomelon - Nursery Rhymes          373.0         1407   9793305082\n",
       "3                   SET India        27323.0         2320  22675948293\n",
       "4                         WWE        36756.0         2427  26273668433"
      ]
     },
     "execution_count": 187,
     "metadata": {},
     "output_type": "execute_result"
    }
   ],
   "source": [
    "x.head()"
   ]
  },
  {
   "cell_type": "code",
   "execution_count": 188,
   "id": "b290a6a2",
   "metadata": {},
   "outputs": [],
   "source": [
    "#In x datasets we have only one column channel name which have string value data-type,at the time of implementation it may be\n",
    "# hectic for us so we have to change its data-type into integers types\n",
    "\n",
    "from sklearn.preprocessing import LabelEncoder\n",
    "lc=LabelEncoder()\n",
    "x['Channel name']=lc.fit_transform(x['Channel name'])"
   ]
  },
  {
   "cell_type": "code",
   "execution_count": 189,
   "id": "0fc75e02",
   "metadata": {},
   "outputs": [],
   "source": [
    "x=pd.DataFrame(x)"
   ]
  },
  {
   "cell_type": "code",
   "execution_count": 190,
   "id": "26983f7d",
   "metadata": {},
   "outputs": [
    {
     "data": {
      "text/html": [
       "<div>\n",
       "<style scoped>\n",
       "    .dataframe tbody tr th:only-of-type {\n",
       "        vertical-align: middle;\n",
       "    }\n",
       "\n",
       "    .dataframe tbody tr th {\n",
       "        vertical-align: top;\n",
       "    }\n",
       "\n",
       "    .dataframe thead th {\n",
       "        text-align: right;\n",
       "    }\n",
       "</style>\n",
       "<table border=\"1\" class=\"dataframe\">\n",
       "  <thead>\n",
       "    <tr style=\"text-align: right;\">\n",
       "      <th></th>\n",
       "      <th>Channel name</th>\n",
       "      <th>Video Uploads</th>\n",
       "      <th>Subscribers</th>\n",
       "      <th>Video views</th>\n",
       "    </tr>\n",
       "  </thead>\n",
       "  <tbody>\n",
       "    <tr>\n",
       "      <th>0</th>\n",
       "      <td>4293</td>\n",
       "      <td>82757.0</td>\n",
       "      <td>1348</td>\n",
       "      <td>20869786591</td>\n",
       "    </tr>\n",
       "    <tr>\n",
       "      <th>1</th>\n",
       "      <td>3525</td>\n",
       "      <td>12661.0</td>\n",
       "      <td>3615</td>\n",
       "      <td>47548839843</td>\n",
       "    </tr>\n",
       "    <tr>\n",
       "      <th>2</th>\n",
       "      <td>780</td>\n",
       "      <td>373.0</td>\n",
       "      <td>1407</td>\n",
       "      <td>9793305082</td>\n",
       "    </tr>\n",
       "    <tr>\n",
       "      <th>3</th>\n",
       "      <td>3180</td>\n",
       "      <td>27323.0</td>\n",
       "      <td>2320</td>\n",
       "      <td>22675948293</td>\n",
       "    </tr>\n",
       "    <tr>\n",
       "      <th>4</th>\n",
       "      <td>4112</td>\n",
       "      <td>36756.0</td>\n",
       "      <td>2427</td>\n",
       "      <td>26273668433</td>\n",
       "    </tr>\n",
       "  </tbody>\n",
       "</table>\n",
       "</div>"
      ],
      "text/plain": [
       "   Channel name  Video Uploads  Subscribers  Video views\n",
       "0          4293        82757.0         1348  20869786591\n",
       "1          3525        12661.0         3615  47548839843\n",
       "2           780          373.0         1407   9793305082\n",
       "3          3180        27323.0         2320  22675948293\n",
       "4          4112        36756.0         2427  26273668433"
      ]
     },
     "execution_count": 190,
     "metadata": {},
     "output_type": "execute_result"
    }
   ],
   "source": [
    "x.head()"
   ]
  },
  {
   "cell_type": "code",
   "execution_count": 199,
   "id": "cfede574",
   "metadata": {},
   "outputs": [],
   "source": [
    "#splitting the datasets for testing and training:\n",
    "        #  USING RANDOM FOREST METHOD\n",
    "\n",
    "x_train,x_test,y_train,y_test=train_test_split(x,y,random_state=15,test_size=0.10)"
   ]
  },
  {
   "cell_type": "code",
   "execution_count": 200,
   "id": "c6b53d63",
   "metadata": {
    "scrolled": false
   },
   "outputs": [
    {
     "data": {
      "text/plain": [
       "RandomForestClassifier(min_samples_split=0.02, n_estimators=6, random_state=10)"
      ]
     },
     "execution_count": 200,
     "metadata": {},
     "output_type": "execute_result"
    }
   ],
   "source": [
    "#fitting the random forest algorithm to the training set:\n",
    "\n",
    "classifier=RandomForestClassifier(n_estimators=6,random_state=10,min_samples_split=0.02)\n",
    "classifier.fit(x_train,y_train)"
   ]
  },
  {
   "cell_type": "code",
   "execution_count": 201,
   "id": "dcbfa9b6",
   "metadata": {},
   "outputs": [],
   "source": [
    "#predicting the test set results:\n",
    "\n",
    "y_pred=classifier.predict(x_test)"
   ]
  },
  {
   "cell_type": "code",
   "execution_count": 202,
   "id": "27d14418",
   "metadata": {},
   "outputs": [
    {
     "data": {
      "text/plain": [
       "0.68"
      ]
     },
     "execution_count": 202,
     "metadata": {},
     "output_type": "execute_result"
    }
   ],
   "source": [
    "accuracy_score(y_test,y_pred)"
   ]
  },
  {
   "cell_type": "code",
   "execution_count": 204,
   "id": "4ba89c38",
   "metadata": {},
   "outputs": [],
   "source": [
    "#splitting the datasets for testing and training:\n",
    "        #  USING DECISION TREE ANALYSIS\n",
    "\n",
    "x_train,x_test,y_train,y_test=train_test_split(x,y,random_state=15,test_size=0.10)"
   ]
  },
  {
   "cell_type": "code",
   "execution_count": 205,
   "id": "c7c8c777",
   "metadata": {},
   "outputs": [
    {
     "data": {
      "text/plain": [
       "DecisionTreeClassifier(min_samples_split=0.02, random_state=10)"
      ]
     },
     "execution_count": 205,
     "metadata": {},
     "output_type": "execute_result"
    }
   ],
   "source": [
    "#fitting the decision tree analysis to the training set:\n",
    "\n",
    "classifier=DecisionTreeClassifier(random_state=10,min_samples_split=0.02)\n",
    "classifier.fit(x_train,y_train)"
   ]
  },
  {
   "cell_type": "code",
   "execution_count": 206,
   "id": "bfb8336f",
   "metadata": {},
   "outputs": [],
   "source": [
    "#predicting the test set results:\n",
    "\n",
    "y_pred=classifier.predict(x_test)"
   ]
  },
  {
   "cell_type": "code",
   "execution_count": 207,
   "id": "3eefae36",
   "metadata": {},
   "outputs": [
    {
     "data": {
      "text/plain": [
       "0.65"
      ]
     },
     "execution_count": 207,
     "metadata": {},
     "output_type": "execute_result"
    }
   ],
   "source": [
    "accuracy_score(y_test,y_pred)"
   ]
  },
  {
   "cell_type": "code",
   "execution_count": 209,
   "id": "93d4d819",
   "metadata": {},
   "outputs": [],
   "source": [
    "#RESULTS:\n",
    "# RANDOM FOREST METHOD = 68%\n",
    "# DECISION TREE ANALYSIS = 65%"
   ]
  }
 ],
 "metadata": {
  "kernelspec": {
   "display_name": "Python 3 (ipykernel)",
   "language": "python",
   "name": "python3"
  },
  "language_info": {
   "codemirror_mode": {
    "name": "ipython",
    "version": 3
   },
   "file_extension": ".py",
   "mimetype": "text/x-python",
   "name": "python",
   "nbconvert_exporter": "python",
   "pygments_lexer": "ipython3",
   "version": "3.9.1"
  }
 },
 "nbformat": 4,
 "nbformat_minor": 5
}
